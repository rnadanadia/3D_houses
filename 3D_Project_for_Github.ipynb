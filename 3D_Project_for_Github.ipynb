{
 "cells": [
  {
   "cell_type": "markdown",
   "metadata": {},
   "source": [
    "# STEP BY STEP"
   ]
  },
  {
   "cell_type": "markdown",
   "metadata": {},
   "source": [
    "\n",
    "1. Download DSM and DTM file\n",
    "2. Open DSM and DTM file\n",
    "3. Use API address to get coordinate of a specific location using http://loc.geopunt.be \n",
    "4. Check the bounds of the fileUse rasterio.bounds function to check the north, east, west, south bounds of the location\n",
    "6. Use 'if function' if the building is located in the .tif file\n",
    "7. Create 3D file"
   ]
  },
  {
   "cell_type": "markdown",
   "metadata": {},
   "source": [
    "# Download DSM and DTM file"
   ]
  },
  {
   "cell_type": "markdown",
   "metadata": {},
   "source": [
    "## DSM file"
   ]
  },
  {
   "cell_type": "code",
   "execution_count": null,
   "metadata": {},
   "outputs": [],
   "source": [
    "#pip3 install beautifulsoup4\n",
    "#pip3 install lxml\n",
    "\n",
    "\n",
    "from bs4 import BeautifulSoup\n",
    "import requests\n",
    "\n",
    "url= 'https://www.geopunt.be/download?container=dhm-vlaanderen-ii-dsm-raster-1m&title=Digitaal%20Hoogtemodel%20Vlaanderen%20II,%20DSM,%20raster,%201m'\n",
    "filetype = '.zip'\n",
    "\n",
    "def web(url):\n",
    "    return BeautifulSoup(requests.get(url).text, 'lxml')\n",
    "\n",
    "for url_containing_link in web(url).find_all('a'):\n",
    "    link = url_containing_link.get('href')\n",
    "    if filetype in link:\n",
    "        print(link)\n",
    "        with open(url_containing_link.text, 'wb') as download_dsm:\n",
    "            response = requests.get(link)\n",
    "            download_dsm.write(response.content)\n",
    "       "
   ]
  },
  {
   "cell_type": "markdown",
   "metadata": {},
   "source": [
    "## DTM file"
   ]
  },
  {
   "cell_type": "code",
   "execution_count": null,
   "metadata": {},
   "outputs": [],
   "source": [
    "from bs4 import BeautifulSoup\n",
    "import requests\n",
    "\n",
    "url = 'https://www.geopunt.be/download?container=dhm-vlaanderen-ii-dtm-raster-1m&title=Digitaal%20Hoogtemodel%20Vlaanderen%20II,%20DTM,%20raster,%201m'\n",
    "filetype = '.zip'\n",
    "\n",
    "def web(url):\n",
    "    return BeautifulSoup(requests.get(url).text, 'lxml')\n",
    "\n",
    "for url_containing_link in web(url).find_all('a'):\n",
    "    link = url_containing_link.get('href')\n",
    "    if filetype in link:\n",
    "        print(url_containing_link)\n",
    "        with open(url_containing_link.text, 'wb') as download_dtm:\n",
    "            response = requests.get(link)\n",
    "            download_dtm.write(response.content)\n",
    "            "
   ]
  },
  {
   "cell_type": "markdown",
   "metadata": {},
   "source": [
    "## Check the .tif file"
   ]
  },
  {
   "cell_type": "code",
   "execution_count": 2,
   "metadata": {},
   "outputs": [
    {
     "name": "stdout",
     "output_type": "stream",
     "text": [
      "/Users/nadanadia/Desktop/Me/DHMVIIDTMRAS1m_k16/GeoTIFF/DHMVIIDTMRAS1m_k16.tif\n",
      "/Users/nadanadia/Desktop/Me/DHMVIIDTMRAS1m_k20/GeoTIFF/DHMVIIDTMRAS1m_k20.tif\n",
      "/Users/nadanadia/Desktop/Me/DHMVIIDTMRAS1m_k28/GeoTIFF/DHMVIIDTMRAS1m_k28.tif\n",
      "/Users/nadanadia/Desktop/Me/DHMVIIDSMRAS1m_k05/GeoTIFF/DHMVIIDSMRAS1m_k05.tif\n",
      "/Users/nadanadia/Desktop/Me/DHMVIIDSMRAS1m_k20/GeoTIFF/DHMVIIDSMRAS1m_k20.tif\n",
      "/Users/nadanadia/Desktop/Me/DHMVIIDSMRAS1m_k16/GeoTIFF/DHMVIIDSMRAS1m_k16.tif\n",
      "/Users/nadanadia/Desktop/Me/DHMVIIDTMRAS1m_k05/GeoTIFF/DHMVIIDTMRAS1m_k05.tif\n",
      "/Users/nadanadia/Desktop/Me/DHMVIIDSMRAS1m_k28/GeoTIFF/DHMVIIDSMRAS1m_k28.tif\n",
      "/Users/nadanadia/Desktop/Me/DHMVIIDTMRAS1m_k15/GeoTIFF/DHMVIIDTMRAS1m_k15.tif\n",
      "/Users/nadanadia/Desktop/Me/DHMVIIDSMRAS1m_k07/GeoTIFF/DHMVIIDSMRAS1m_k07.tif\n",
      "/Users/nadanadia/Desktop/Me/DHMVIIDSMRAS1m_k08/GeoTIFF/DHMVIIDSMRAS1m_k08.tif\n",
      "/Users/nadanadia/Desktop/Me/DHMVIIDSMRAS1m_k06/GeoTIFF/DHMVIIDSMRAS1m_k06.tif\n",
      "/Users/nadanadia/Desktop/Me/DHMVIIDTMRAS1m_k07/GeoTIFF/DHMVIIDTMRAS1m_k07.tif\n",
      "/Users/nadanadia/Desktop/Me/DHMVIIDSMRAS1m_k15/GeoTIFF/DHMVIIDSMRAS1m_k15.tif\n",
      "/Users/nadanadia/Desktop/Me/DHMVIIDTMRAS1m_k06/GeoTIFF/DHMVIIDTMRAS1m_k06.tif\n",
      "/Users/nadanadia/Desktop/Me/DHMVIIDTMRAS1m_k08/GeoTIFF/DHMVIIDTMRAS1m_k08.tif\n"
     ]
    }
   ],
   "source": [
    "import os\n",
    "import rasterio\n",
    "from rasterio.plot import show\n",
    "\n",
    "#to open .tif wheter located in directory, subdirectory, or files.\n",
    "#applied for dsm and dtm files\n",
    "\n",
    "rootdir = '/Users/nadanadia/Desktop/Me/'\n",
    "for subdir, dir, files in os.walk(rootdir):\n",
    "    for f in files:\n",
    "        if f.endswith('.tif'):\n",
    "            get_file= os.path.join(subdir, f)\n",
    "            print(get_file)"
   ]
  },
  {
   "cell_type": "markdown",
   "metadata": {},
   "source": [
    "# Get the location and the bounds\n",
    "\n",
    "1. Get the location with API address\n",
    "2. Get the bounds by calling .bounds\n"
   ]
  },
  {
   "cell_type": "code",
   "execution_count": 3,
   "metadata": {},
   "outputs": [
    {
     "name": "stdout",
     "output_type": "stream",
     "text": [
      "Address: Zoerselhofdreef 40, 2980\n",
      "Coordinate of the location is: (173172.83, 216574.07)\n",
      "/Users/nadanadia/Desktop/Me/DHMVIIDTMRAS1m_k16/GeoTIFF/DHMVIIDTMRAS1m_k16.tif\n",
      "/Users/nadanadia/Desktop/Me/DHMVIIDSMRAS1m_k16/GeoTIFF/DHMVIIDSMRAS1m_k16.tif\n"
     ]
    }
   ],
   "source": [
    "import os\n",
    "import rasterio\n",
    "from rasterio.plot import show\n",
    "import requests\n",
    "import json\n",
    "\n",
    "\n",
    "rootdir = '/Users/nadanadia/Desktop/Me/'\n",
    "address = input(\"Please input the address: \")  \n",
    "  \n",
    "#http://loc.geopunt.be\n",
    "response = requests.get(f\"http://loc.geopunt.be/v4/location?q={address}\")  \n",
    "coordinate = json.loads(response.content)\n",
    "\n",
    "if not coordinate['LocationResult']:\n",
    "    raise ValueError('Please input the correct address')\n",
    "\n",
    "x_axis = coordinate['LocationResult'][0]['Location']['X_Lambert72']\n",
    "y_axis = coordinate['LocationResult'][0]['Location']['Y_Lambert72']\n",
    "\n",
    "print(f'Address: {address}')\n",
    "print(f'Coordinate of the location is: {float(x_axis), float(y_axis)}')\n",
    "\n",
    "\n",
    "#make an empty list for file_descriptors to save bounds. description\n",
    "file_descriptors = []\n",
    "\n",
    "#to open .tif wheter located in directory, subdirectory, or files.\n",
    "#applied for dsm and dtm files\n",
    "for subdir, dir, files in os.walk(rootdir):\n",
    "    for f in files:\n",
    "        if f.endswith('.tif'):                \n",
    "            path = os.path.join(subdir, f)\n",
    "            file_descriptor = rasterio.open(path)\n",
    "            \n",
    "            #imagine if the image is inside a square. call .bounds[number] to know the square.\n",
    "            #to get left side of the square (x_min), right side of the square (x_max), upper side of the square (y_max), and bottom side of the square (y_min)\n",
    "            #check if the address is inside .tif file\n",
    "           \n",
    "            x_min = file_descriptor.bounds[0]\n",
    "            x_max = file_descriptor.bounds[2]\n",
    "            y_min = file_descriptor.bounds[1]\n",
    "            y_max = file_descriptor.bounds[3]\n",
    "\n",
    "            if x_min < x_axis < x_max and y_min < y_axis < y_max:\n",
    "                #add bounds information to file_descriptors list\n",
    "                file_descriptors.append(file_descriptor)\n",
    "                print(path)\n",
    "            else:\n",
    "                #close file that is not suitable\n",
    "                file_descriptor.close()\n",
    "                    "
   ]
  },
  {
   "cell_type": "code",
   "execution_count": 4,
   "metadata": {},
   "outputs": [
    {
     "name": "stdout",
     "output_type": "stream",
     "text": [
      "[<open DatasetReader name='/Users/nadanadia/Desktop/Me/DHMVIIDTMRAS1m_k16/GeoTIFF/DHMVIIDTMRAS1m_k16.tif' mode='r'>, <open DatasetReader name='/Users/nadanadia/Desktop/Me/DHMVIIDSMRAS1m_k16/GeoTIFF/DHMVIIDSMRAS1m_k16.tif' mode='r'>]\n"
     ]
    }
   ],
   "source": [
    "print(file_descriptors)"
   ]
  },
  {
   "cell_type": "markdown",
   "metadata": {},
   "source": [
    "# Make Windows DSM and DTM"
   ]
  },
  {
   "cell_type": "code",
   "execution_count": 5,
   "metadata": {},
   "outputs": [
    {
     "name": "stdout",
     "output_type": "stream",
     "text": [
      "Window(col_off=11132.829999999987, row_off=1385.929999999993, width=80.0, height=80.0)\n"
     ]
    }
   ],
   "source": [
    "import random\n",
    "import rasterio \n",
    "from rasterio.windows import Window \n",
    "from rasterio.windows import from_bounds\n",
    "\n",
    "dsm_file = file_descriptors[1]\n",
    "dtm_file = file_descriptors[0]\n",
    "\n",
    "length = 40\n",
    "xoff = x_axis\n",
    "yoff = y_axis\n",
    "\n",
    "left_new = xoff - length\n",
    "right_new = xoff + length\n",
    "bottom_new = yoff - length\n",
    "top_new = yoff + length\n",
    "\n",
    "window = from_bounds(left_new, bottom_new, right_new, top_new, transform=dsm_file.transform)\n",
    "#transform dsm and dtm are same\n",
    "print(window)\n",
    "\n"
   ]
  },
  {
   "cell_type": "markdown",
   "metadata": {},
   "source": [
    "# Open DSM and DTM in numpy array"
   ]
  },
  {
   "cell_type": "code",
   "execution_count": 6,
   "metadata": {},
   "outputs": [],
   "source": [
    "dsm_array = dsm_file.read( window=window)\n",
    "dtm_array = dtm_file.read( window=window)"
   ]
  },
  {
   "cell_type": "markdown",
   "metadata": {},
   "source": [
    "# Create 3D"
   ]
  },
  {
   "cell_type": "code",
   "execution_count": 7,
   "metadata": {},
   "outputs": [
    {
     "data": {
      "text/plain": [
       "array([[[ 0.        ,  0.        ,  0.        , ...,  9.09      ,\n",
       "         10.030001  ,  6.029999  ],\n",
       "        [ 0.        ,  0.        ,  0.        , ...,  6.1500015 ,\n",
       "         10.129999  ,  8.969999  ],\n",
       "        [ 0.        ,  0.        ,  0.        , ...,  5.5       ,\n",
       "          6.0300007 ,  0.62000084],\n",
       "        ...,\n",
       "        [21.560001  , 18.43      , 22.099998  , ...,  0.        ,\n",
       "          0.        ,  0.        ],\n",
       "        [24.        , 22.43      , 16.81      , ...,  0.        ,\n",
       "          0.        ,  0.        ],\n",
       "        [20.43      , 19.46      , 19.98      , ...,  0.        ,\n",
       "          0.        ,  0.        ]]], dtype=float32)"
      ]
     },
     "execution_count": 7,
     "metadata": {},
     "output_type": "execute_result"
    }
   ],
   "source": [
    "chm_array = dsm_array - dtm_array\n",
    "chm_array"
   ]
  },
  {
   "cell_type": "code",
   "execution_count": 11,
   "metadata": {},
   "outputs": [
    {
     "ename": "TypeError",
     "evalue": "invalid Figure property: mode\nmode\nBad property path:\nmode\n^^^^",
     "output_type": "error",
     "traceback": [
      "\u001b[0;31m---------------------------------------------------------------------------\u001b[0m",
      "\u001b[0;31mTypeError\u001b[0m                                 Traceback (most recent call last)",
      "\u001b[1;32m/Users/nadanadia/Documents/GitHub/3D_houses/3D_Project_for_Github.ipynb Cell 19'\u001b[0m in \u001b[0;36m<module>\u001b[0;34m\u001b[0m\n\u001b[1;32m      <a href='vscode-notebook-cell:/Users/nadanadia/Documents/GitHub/3D_houses/3D_Project_for_Github.ipynb#ch0000018?line=1'>2</a>\u001b[0m \u001b[39m#pio.renderers.default = \"browser\"\u001b[39;00m\n\u001b[1;32m      <a href='vscode-notebook-cell:/Users/nadanadia/Documents/GitHub/3D_houses/3D_Project_for_Github.ipynb#ch0000018?line=4'>5</a>\u001b[0m \u001b[39mimport\u001b[39;00m \u001b[39mplotly\u001b[39;00m\u001b[39m.\u001b[39;00m\u001b[39mgraph_objects\u001b[39;00m \u001b[39mas\u001b[39;00m \u001b[39mgo\u001b[39;00m\n\u001b[0;32m----> <a href='vscode-notebook-cell:/Users/nadanadia/Documents/GitHub/3D_houses/3D_Project_for_Github.ipynb#ch0000018?line=6'>7</a>\u001b[0m fig \u001b[39m=\u001b[39m go\u001b[39m.\u001b[39;49mFigure(data\u001b[39m=\u001b[39;49mgo\u001b[39m.\u001b[39;49mSurface(z\u001b[39m=\u001b[39;49mchm_array[\u001b[39m0\u001b[39;49m]), mode\u001b[39m=\u001b[39;49m\u001b[39m'\u001b[39;49m\u001b[39mlines+markers\u001b[39;49m\u001b[39m'\u001b[39;49m, line_color\u001b[39m=\u001b[39;49m\u001b[39m'\u001b[39;49m\u001b[39m#ffe476\u001b[39;49m\u001b[39m'\u001b[39;49m)\n\u001b[1;32m      <a href='vscode-notebook-cell:/Users/nadanadia/Documents/GitHub/3D_houses/3D_Project_for_Github.ipynb#ch0000018?line=8'>9</a>\u001b[0m fig\u001b[39m.\u001b[39mshow()\n",
      "File \u001b[0;32m/Library/Frameworks/Python.framework/Versions/3.9/lib/python3.9/site-packages/plotly/graph_objs/_figure.py:594\u001b[0m, in \u001b[0;36mFigure.__init__\u001b[0;34m(self, data, layout, frames, skip_invalid, **kwargs)\u001b[0m\n\u001b[1;32m      <a href='file:///Library/Frameworks/Python.framework/Versions/3.9/lib/python3.9/site-packages/plotly/graph_objs/_figure.py?line=4'>5</a>\u001b[0m \u001b[39mdef\u001b[39;00m \u001b[39m__init__\u001b[39m(\n\u001b[1;32m      <a href='file:///Library/Frameworks/Python.framework/Versions/3.9/lib/python3.9/site-packages/plotly/graph_objs/_figure.py?line=5'>6</a>\u001b[0m     \u001b[39mself\u001b[39m, data\u001b[39m=\u001b[39m\u001b[39mNone\u001b[39;00m, layout\u001b[39m=\u001b[39m\u001b[39mNone\u001b[39;00m, frames\u001b[39m=\u001b[39m\u001b[39mNone\u001b[39;00m, skip_invalid\u001b[39m=\u001b[39m\u001b[39mFalse\u001b[39;00m, \u001b[39m*\u001b[39m\u001b[39m*\u001b[39mkwargs\n\u001b[1;32m      <a href='file:///Library/Frameworks/Python.framework/Versions/3.9/lib/python3.9/site-packages/plotly/graph_objs/_figure.py?line=6'>7</a>\u001b[0m ):\n\u001b[1;32m      <a href='file:///Library/Frameworks/Python.framework/Versions/3.9/lib/python3.9/site-packages/plotly/graph_objs/_figure.py?line=7'>8</a>\u001b[0m     \u001b[39m\"\"\"\u001b[39;00m\n\u001b[1;32m      <a href='file:///Library/Frameworks/Python.framework/Versions/3.9/lib/python3.9/site-packages/plotly/graph_objs/_figure.py?line=8'>9</a>\u001b[0m \u001b[39m    Create a new :class:Figure instance\u001b[39;00m\n\u001b[1;32m     <a href='file:///Library/Frameworks/Python.framework/Versions/3.9/lib/python3.9/site-packages/plotly/graph_objs/_figure.py?line=9'>10</a>\u001b[0m \n\u001b[0;32m   (...)\u001b[0m\n\u001b[1;32m    <a href='file:///Library/Frameworks/Python.framework/Versions/3.9/lib/python3.9/site-packages/plotly/graph_objs/_figure.py?line=591'>592</a>\u001b[0m \u001b[39m        is invalid AND skip_invalid is False\u001b[39;00m\n\u001b[1;32m    <a href='file:///Library/Frameworks/Python.framework/Versions/3.9/lib/python3.9/site-packages/plotly/graph_objs/_figure.py?line=592'>593</a>\u001b[0m \u001b[39m    \"\"\"\u001b[39;00m\n\u001b[0;32m--> <a href='file:///Library/Frameworks/Python.framework/Versions/3.9/lib/python3.9/site-packages/plotly/graph_objs/_figure.py?line=593'>594</a>\u001b[0m     \u001b[39msuper\u001b[39;49m(Figure, \u001b[39mself\u001b[39;49m)\u001b[39m.\u001b[39;49m\u001b[39m__init__\u001b[39;49m(data, layout, frames, skip_invalid, \u001b[39m*\u001b[39;49m\u001b[39m*\u001b[39;49mkwargs)\n",
      "File \u001b[0;32m/Library/Frameworks/Python.framework/Versions/3.9/lib/python3.9/site-packages/plotly/basedatatypes.py:649\u001b[0m, in \u001b[0;36mBaseFigure.__init__\u001b[0;34m(self, data, layout_plotly, frames, skip_invalid, **kwargs)\u001b[0m\n\u001b[1;32m    <a href='file:///Library/Frameworks/Python.framework/Versions/3.9/lib/python3.9/site-packages/plotly/basedatatypes.py?line=641'>642</a>\u001b[0m                 type_err \u001b[39m=\u001b[39m \u001b[39mTypeError\u001b[39;00m(\u001b[39m\"\u001b[39m\u001b[39minvalid Figure property: \u001b[39m\u001b[39m{}\u001b[39;00m\u001b[39m\"\u001b[39m\u001b[39m.\u001b[39mformat(k))\n\u001b[1;32m    <a href='file:///Library/Frameworks/Python.framework/Versions/3.9/lib/python3.9/site-packages/plotly/basedatatypes.py?line=642'>643</a>\u001b[0m                 type_err\u001b[39m.\u001b[39margs \u001b[39m=\u001b[39m (\n\u001b[1;32m    <a href='file:///Library/Frameworks/Python.framework/Versions/3.9/lib/python3.9/site-packages/plotly/basedatatypes.py?line=643'>644</a>\u001b[0m                     type_err\u001b[39m.\u001b[39margs[\u001b[39m0\u001b[39m]\n\u001b[1;32m    <a href='file:///Library/Frameworks/Python.framework/Versions/3.9/lib/python3.9/site-packages/plotly/basedatatypes.py?line=644'>645</a>\u001b[0m                     \u001b[39m+\u001b[39m \u001b[39m\"\"\"\u001b[39m\n\u001b[1;32m    <a href='file:///Library/Frameworks/Python.framework/Versions/3.9/lib/python3.9/site-packages/plotly/basedatatypes.py?line=645'>646</a>\u001b[0m \u001b[39m%s\u001b[39;00m\u001b[39m\"\"\"\u001b[39m\n\u001b[1;32m    <a href='file:///Library/Frameworks/Python.framework/Versions/3.9/lib/python3.9/site-packages/plotly/basedatatypes.py?line=646'>647</a>\u001b[0m                     \u001b[39m%\u001b[39m (err\u001b[39m.\u001b[39margs[\u001b[39m0\u001b[39m],),\n\u001b[1;32m    <a href='file:///Library/Frameworks/Python.framework/Versions/3.9/lib/python3.9/site-packages/plotly/basedatatypes.py?line=647'>648</a>\u001b[0m                 )\n\u001b[0;32m--> <a href='file:///Library/Frameworks/Python.framework/Versions/3.9/lib/python3.9/site-packages/plotly/basedatatypes.py?line=648'>649</a>\u001b[0m                 \u001b[39mraise\u001b[39;00m type_err\n",
      "\u001b[0;31mTypeError\u001b[0m: invalid Figure property: mode\nmode\nBad property path:\nmode\n^^^^"
     ]
    }
   ],
   "source": [
    "import plotly.io as pio\n",
    "#pio.renderers.default = \"browser\"\n",
    "\n",
    "\n",
    "import plotly.graph_objects as go\n",
    "\n",
    "fig = go.Figure(data=go.Surface(z=chm_array[0]), mode='lines+markers', line_color='#ffe476')\n",
    "fig.add_trace(go.Scatter(mode='lines+markers', line_color='#ffe476'))\n",
    "fig.show()"
   ]
  },
  {
   "cell_type": "code",
   "execution_count": null,
   "metadata": {},
   "outputs": [],
   "source": [
    "\n",
    "import requests\n",
    "from bs4 import BeautifulSoup\n",
    "from selenium import webdriver\n",
    "from selenium.webdriver.chrome.service import Service\n",
    "from webdriver_manager.chrome import ChromeDriverManager\n",
    "import re\n",
    "import pandas as pd\n",
    "\n",
    "\n",
    "\n",
    "s=Service(ChromeDriverManager().install())\n",
    "driver = webdriver.Chrome(service=s)\n",
    "url = (f\"https://www.immoweb.be/en/classified/castle/for-sale/zoersel/2980/9397104?\") \n",
    "driver.get(url)\n",
    "soup = BeautifulSoup(driver.page_source, \"lxml\")\n",
    "\n",
    "#price\n",
    "for div_containing_price in soup.find_all(\"p\", {\"class\":\"classified__price\"}):\n",
    "    a = div_containing_price.find(\"span\", {\"class\":\"sr-only\"})\n",
    "    price = a.text\n",
    "    print(price)"
   ]
  },
  {
   "cell_type": "markdown",
   "metadata": {},
   "source": []
  }
 ],
 "metadata": {
  "interpreter": {
   "hash": "aee8b7b246df8f9039afb4144a1f6fd8d2ca17a180786b69acc140d282b71a49"
  },
  "kernelspec": {
   "display_name": "Python 3.9.10 64-bit",
   "language": "python",
   "name": "python3"
  },
  "language_info": {
   "codemirror_mode": {
    "name": "ipython",
    "version": 3
   },
   "file_extension": ".py",
   "mimetype": "text/x-python",
   "name": "python",
   "nbconvert_exporter": "python",
   "pygments_lexer": "ipython3",
   "version": "3.9.10"
  },
  "orig_nbformat": 4
 },
 "nbformat": 4,
 "nbformat_minor": 2
}
